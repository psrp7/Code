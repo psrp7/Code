{
 "cells": [
  {
   "cell_type": "code",
   "execution_count": 33,
   "metadata": {
    "id": "kfQRVhvq2DRx"
   },
   "outputs": [],
   "source": [
    "import tensorflow as tf  \n",
    "from tensorflow.keras.datasets import boston_housing \n",
    "from sklearn import preprocessing"
   ]
  },
  {
   "cell_type": "code",
   "execution_count": 34,
   "metadata": {
    "colab": {
     "base_uri": "https://localhost:8080/"
    },
    "executionInfo": {
     "elapsed": 18,
     "status": "ok",
     "timestamp": 1693172455904,
     "user": {
      "displayName": "Shreyash Teli",
      "userId": "16496279542267094819"
     },
     "user_tz": -330
    },
    "id": "BMEjLjS87p9p",
    "outputId": "5e78fc3a-c19c-4ea3-ca9f-2b5cb2ba4c7d"
   },
   "outputs": [],
   "source": [
    "(train_x,train_y),(test_x,test_y)=boston_housing.load_data()\n"
   ]
  },
  {
   "cell_type": "code",
   "execution_count": 35,
   "metadata": {
    "colab": {
     "base_uri": "https://localhost:8080/"
    },
    "executionInfo": {
     "elapsed": 14,
     "status": "ok",
     "timestamp": 1693172649813,
     "user": {
      "displayName": "Shreyash Teli",
      "userId": "16496279542267094819"
     },
     "user_tz": -330
    },
    "id": "7MNWDjRt8VRR",
    "outputId": "1590515b-a70e-47d1-d5dc-59b358ec14c4"
   },
   "outputs": [
    {
     "name": "stdout",
     "output_type": "stream",
     "text": [
      "train shape:  (404, 13)\n",
      "test shape:  (102, 13)\n",
      "actual train shape:  (404,)\n",
      "actual test shape:  (102,)\n"
     ]
    }
   ],
   "source": [
    "print(\"train shape: \",train_x.shape) #404 record for training each have 13 diff input feature \n",
    "print(\"test shape: \",test_x.shape) # 102 record with 13 input features\n",
    "print(\"actual train shape: \",train_y.shape)\n",
    "print(\"actual test shape: \",test_y.shape)"
   ]
  },
  {
   "cell_type": "code",
   "execution_count": 36,
   "metadata": {
    "colab": {
     "base_uri": "https://localhost:8080/"
    },
    "executionInfo": {
     "elapsed": 3,
     "status": "ok",
     "timestamp": 1693172691552,
     "user": {
      "displayName": "Shreyash Teli",
      "userId": "16496279542267094819"
     },
     "user_tz": -330
    },
    "id": "icUQpB-V9EmR",
    "outputId": "9352d5be-beae-44d5-bfd3-67b60c5f7751"
   },
   "outputs": [
    {
     "data": {
      "text/plain": [
       "array([  1.23247,   0.     ,   8.14   ,   0.     ,   0.538  ,   6.142  ,\n",
       "        91.7    ,   3.9769 ,   4.     , 307.     ,  21.     , 396.9    ,\n",
       "        18.72   ])"
      ]
     },
     "execution_count": 36,
     "metadata": {},
     "output_type": "execute_result"
    }
   ],
   "source": [
    "train_x[0]  # i.e 0 t 1 for that we use prepossing modular from sklearn"
   ]
  },
  {
   "cell_type": "code",
   "execution_count": 37,
   "metadata": {
    "colab": {
     "base_uri": "https://localhost:8080/"
    },
    "executionInfo": {
     "elapsed": 11,
     "status": "ok",
     "timestamp": 1693172704833,
     "user": {
      "displayName": "Shreyash Teli",
      "userId": "16496279542267094819"
     },
     "user_tz": -330
    },
    "id": "YtUt-XuI9Ozw",
    "outputId": "7efafa31-d456-46fe-f687-6bf92f37b722"
   },
   "outputs": [
    {
     "data": {
      "text/plain": [
       "15.2"
      ]
     },
     "execution_count": 37,
     "metadata": {},
     "output_type": "execute_result"
    }
   ],
   "source": [
    "train_y[0] #true value "
   ]
  },
  {
   "cell_type": "code",
   "execution_count": 38,
   "metadata": {
    "id": "sIWuSi-d9SCY"
   },
   "outputs": [],
   "source": [
    "# in this both mormalize is used to bring in 1 range ( Sklearn)\n",
    "train_x=preprocessing.normalize(train_x) \n",
    "test_x=preprocessing.normalize(test_x)"
   ]
  },
  {
   "cell_type": "code",
   "execution_count": 39,
   "metadata": {
    "colab": {
     "base_uri": "https://localhost:8080/"
    },
    "executionInfo": {
     "elapsed": 424,
     "status": "ok",
     "timestamp": 1693172927740,
     "user": {
      "displayName": "Shreyash Teli",
      "userId": "16496279542267094819"
     },
     "user_tz": -330
    },
    "id": "ZLI1PNrw-Dlh",
    "outputId": "40e10f9b-9477-4ac2-a70a-f86aee53d935"
   },
   "outputs": [
    {
     "data": {
      "text/plain": [
       "array([0.0024119 , 0.        , 0.01592969, 0.        , 0.00105285,\n",
       "       0.01201967, 0.17945359, 0.00778265, 0.00782786, 0.6007879 ,\n",
       "       0.04109624, 0.77671895, 0.03663436])"
      ]
     },
     "execution_count": 39,
     "metadata": {},
     "output_type": "execute_result"
    }
   ],
   "source": [
    "train_x[0]"
   ]
  },
  {
   "cell_type": "code",
   "execution_count": 40,
   "metadata": {
    "colab": {
     "base_uri": "https://localhost:8080/"
    },
    "executionInfo": {
     "elapsed": 11,
     "status": "ok",
     "timestamp": 1693172954337,
     "user": {
      "displayName": "Shreyash Teli",
      "userId": "16496279542267094819"
     },
     "user_tz": -330
    },
    "id": "97xBiP-k-IPn",
    "outputId": "a26e8fc6-fd35-4ad3-dde7-ec012e241db2"
   },
   "outputs": [
    {
     "data": {
      "text/plain": [
       "15.2"
      ]
     },
     "execution_count": 40,
     "metadata": {},
     "output_type": "execute_result"
    }
   ],
   "source": [
    "train_y[0] # actual value"
   ]
  },
  {
   "cell_type": "code",
   "execution_count": 41,
   "metadata": {
    "id": "4UFrj58u-O53"
   },
   "outputs": [],
   "source": [
    "from tensorflow.keras.models import Sequential\n",
    "from tensorflow.keras.layers import *\n",
    "def HousePricePredictionModel():\n",
    " model =Sequential() # means defining our layer one after other,this layer are stack one after\n",
    " model.add(Dense(128,activation='relu',input_shape=(train_x[0].shape))) # it has 128 nearal we are defining input beacz it is our first\n",
    " model.add(Dense(64,activation='relu')) #  rectified linear unit  (relu)\n",
    " model.add(Dense(32,activation='relu'))\n",
    " model.add(Dense(1)) #this 1 nearal is sufficent to identify te prices and we want real number so we havent used activation function\n",
    " model.compile(optimizer='rmsprop',loss='mse',metrics=['mae']) # how model compile\n",
    " return model \n",
    "# mse - mean square error\n",
    "# mae - mean apsolute error\n",
    "# optimizer='rmsprop' - helpful for weight updation\n",
    "# now we have defined our model now we have to train "
   ]
  },
  {
   "cell_type": "code",
   "execution_count": 42,
   "metadata": {
    "id": "uXi3vwAXBQqo"
   },
   "outputs": [],
   "source": [
    "import numpy as np\n",
    "\n",
    "num_val_samples = len(train_x)\n",
    "num_epochs = 100\n",
    "all_scores = []"
   ]
  },
  {
   "cell_type": "code",
   "execution_count": 43,
   "metadata": {
    "colab": {
     "base_uri": "https://localhost:8080/"
    },
    "executionInfo": {
     "elapsed": 143142,
     "status": "ok",
     "timestamp": 1693175184833,
     "user": {
      "displayName": "Shreyash Teli",
      "userId": "16496279542267094819"
     },
     "user_tz": -330
    },
    "id": "FpL0I6FMFISI",
    "outputId": "1102d413-f8da-475a-9315-aba4697663dd"
   },
   "outputs": [
    {
     "name": "stdout",
     "output_type": "stream",
     "text": [
      "Epoch 1/100\n",
      "404/404 [==============================] - 2s 3ms/step - loss: 158.5535 - mae: 8.7417 - val_loss: 71.3270 - val_mae: 6.4485\n",
      "Epoch 2/100\n",
      "404/404 [==============================] - 1s 2ms/step - loss: 68.9264 - mae: 5.8247 - val_loss: 60.4238 - val_mae: 5.6895\n",
      "Epoch 3/100\n",
      "404/404 [==============================] - 1s 2ms/step - loss: 62.7683 - mae: 5.5339 - val_loss: 57.1774 - val_mae: 5.5974\n",
      "Epoch 4/100\n",
      "404/404 [==============================] - 1s 2ms/step - loss: 60.9205 - mae: 5.4057 - val_loss: 60.6195 - val_mae: 5.5448\n",
      "Epoch 5/100\n",
      "404/404 [==============================] - 1s 2ms/step - loss: 58.1452 - mae: 5.2106 - val_loss: 54.1800 - val_mae: 5.4016\n",
      "Epoch 6/100\n",
      "404/404 [==============================] - 1s 2ms/step - loss: 57.5459 - mae: 5.1318 - val_loss: 55.2398 - val_mae: 5.3436\n",
      "Epoch 7/100\n",
      "404/404 [==============================] - 1s 2ms/step - loss: 55.4672 - mae: 5.1302 - val_loss: 53.4406 - val_mae: 5.2604\n",
      "Epoch 8/100\n",
      "404/404 [==============================] - 1s 2ms/step - loss: 54.8857 - mae: 5.0359 - val_loss: 50.9847 - val_mae: 5.1927\n",
      "Epoch 9/100\n",
      "404/404 [==============================] - 1s 2ms/step - loss: 53.4718 - mae: 4.9088 - val_loss: 49.6329 - val_mae: 5.1962\n",
      "Epoch 10/100\n",
      "404/404 [==============================] - 1s 2ms/step - loss: 52.6236 - mae: 4.8362 - val_loss: 50.1845 - val_mae: 5.0232\n",
      "Epoch 11/100\n",
      "404/404 [==============================] - 1s 2ms/step - loss: 50.6542 - mae: 4.8164 - val_loss: 50.5102 - val_mae: 4.9844\n",
      "Epoch 12/100\n",
      "404/404 [==============================] - 1s 2ms/step - loss: 48.4964 - mae: 4.6394 - val_loss: 46.5841 - val_mae: 4.9331\n",
      "Epoch 13/100\n",
      "404/404 [==============================] - 1s 2ms/step - loss: 47.2039 - mae: 4.6578 - val_loss: 48.6111 - val_mae: 5.3141\n",
      "Epoch 14/100\n",
      "404/404 [==============================] - 1s 2ms/step - loss: 45.9281 - mae: 4.5611 - val_loss: 45.6767 - val_mae: 5.0452\n",
      "Epoch 15/100\n",
      "404/404 [==============================] - 1s 2ms/step - loss: 44.7897 - mae: 4.5477 - val_loss: 50.5397 - val_mae: 4.9377\n",
      "Epoch 16/100\n",
      "404/404 [==============================] - 1s 2ms/step - loss: 43.9366 - mae: 4.3931 - val_loss: 41.2230 - val_mae: 4.4267\n",
      "Epoch 17/100\n",
      "404/404 [==============================] - 1s 2ms/step - loss: 41.6578 - mae: 4.4698 - val_loss: 39.8109 - val_mae: 4.3544\n",
      "Epoch 18/100\n",
      "404/404 [==============================] - 1s 2ms/step - loss: 41.6257 - mae: 4.3545 - val_loss: 37.2799 - val_mae: 4.3419\n",
      "Epoch 19/100\n",
      "404/404 [==============================] - 1s 2ms/step - loss: 39.5739 - mae: 4.2992 - val_loss: 39.3819 - val_mae: 4.3186\n",
      "Epoch 20/100\n",
      "404/404 [==============================] - 1s 2ms/step - loss: 37.7547 - mae: 4.2587 - val_loss: 35.1762 - val_mae: 4.2557\n",
      "Epoch 21/100\n",
      "404/404 [==============================] - 1s 2ms/step - loss: 36.2683 - mae: 4.1855 - val_loss: 43.8543 - val_mae: 4.5707\n",
      "Epoch 22/100\n",
      "404/404 [==============================] - 1s 2ms/step - loss: 36.9574 - mae: 4.2034 - val_loss: 32.3715 - val_mae: 4.0069\n",
      "Epoch 23/100\n",
      "404/404 [==============================] - 1s 2ms/step - loss: 34.8491 - mae: 4.1738 - val_loss: 33.3330 - val_mae: 4.0045\n",
      "Epoch 24/100\n",
      "404/404 [==============================] - 1s 2ms/step - loss: 34.5531 - mae: 4.0431 - val_loss: 36.6469 - val_mae: 4.8193\n",
      "Epoch 25/100\n",
      "404/404 [==============================] - 1s 2ms/step - loss: 33.1669 - mae: 4.0148 - val_loss: 30.7450 - val_mae: 3.8501\n",
      "Epoch 26/100\n",
      "404/404 [==============================] - 1s 2ms/step - loss: 33.1670 - mae: 4.0332 - val_loss: 32.5772 - val_mae: 3.9138\n",
      "Epoch 27/100\n",
      "404/404 [==============================] - 1s 2ms/step - loss: 32.2187 - mae: 4.0114 - val_loss: 33.6406 - val_mae: 3.9864\n",
      "Epoch 28/100\n",
      "404/404 [==============================] - 1s 2ms/step - loss: 31.9813 - mae: 3.9997 - val_loss: 29.4431 - val_mae: 3.8050\n",
      "Epoch 29/100\n",
      "404/404 [==============================] - 1s 2ms/step - loss: 29.9784 - mae: 3.9358 - val_loss: 28.8261 - val_mae: 3.9692\n",
      "Epoch 30/100\n",
      "404/404 [==============================] - 1s 2ms/step - loss: 31.2300 - mae: 3.8995 - val_loss: 27.4617 - val_mae: 3.7890\n",
      "Epoch 31/100\n",
      "404/404 [==============================] - 1s 2ms/step - loss: 29.3462 - mae: 3.8028 - val_loss: 26.9641 - val_mae: 3.6719\n",
      "Epoch 32/100\n",
      "404/404 [==============================] - 1s 2ms/step - loss: 28.3755 - mae: 3.7581 - val_loss: 31.7534 - val_mae: 3.8720\n",
      "Epoch 33/100\n",
      "404/404 [==============================] - 1s 2ms/step - loss: 28.4567 - mae: 3.8191 - val_loss: 28.7738 - val_mae: 3.7149\n",
      "Epoch 34/100\n",
      "404/404 [==============================] - 1s 2ms/step - loss: 28.2694 - mae: 3.7310 - val_loss: 26.6372 - val_mae: 3.6650\n",
      "Epoch 35/100\n",
      "404/404 [==============================] - 1s 2ms/step - loss: 27.8064 - mae: 3.7137 - val_loss: 29.9479 - val_mae: 4.3746\n",
      "Epoch 36/100\n",
      "404/404 [==============================] - 1s 2ms/step - loss: 27.1178 - mae: 3.7155 - val_loss: 26.2705 - val_mae: 3.8141\n",
      "Epoch 37/100\n",
      "404/404 [==============================] - 1s 2ms/step - loss: 26.7368 - mae: 3.6186 - val_loss: 25.7305 - val_mae: 3.6779\n",
      "Epoch 38/100\n",
      "404/404 [==============================] - 1s 2ms/step - loss: 26.1043 - mae: 3.5635 - val_loss: 25.8772 - val_mae: 3.7711\n",
      "Epoch 39/100\n",
      "404/404 [==============================] - 1s 2ms/step - loss: 24.9337 - mae: 3.5266 - val_loss: 32.2008 - val_mae: 3.9458\n",
      "Epoch 40/100\n",
      "404/404 [==============================] - 1s 2ms/step - loss: 24.4488 - mae: 3.5088 - val_loss: 24.9911 - val_mae: 3.6168\n",
      "Epoch 41/100\n",
      "404/404 [==============================] - 1s 2ms/step - loss: 24.1235 - mae: 3.5139 - val_loss: 49.0441 - val_mae: 5.1969\n",
      "Epoch 42/100\n",
      "404/404 [==============================] - 1s 2ms/step - loss: 23.5728 - mae: 3.4261 - val_loss: 29.8466 - val_mae: 3.8460\n",
      "Epoch 43/100\n",
      "404/404 [==============================] - 1s 2ms/step - loss: 23.4424 - mae: 3.5375 - val_loss: 42.0396 - val_mae: 4.7622\n",
      "Epoch 44/100\n",
      "404/404 [==============================] - 1s 2ms/step - loss: 23.0704 - mae: 3.4947 - val_loss: 25.2220 - val_mae: 3.6252\n",
      "Epoch 45/100\n",
      "404/404 [==============================] - 1s 2ms/step - loss: 22.2514 - mae: 3.4637 - val_loss: 25.7583 - val_mae: 3.8324\n",
      "Epoch 46/100\n",
      "404/404 [==============================] - 1s 2ms/step - loss: 22.5001 - mae: 3.3962 - val_loss: 25.7001 - val_mae: 3.7312\n",
      "Epoch 47/100\n",
      "404/404 [==============================] - 1s 2ms/step - loss: 21.8888 - mae: 3.3757 - val_loss: 30.6719 - val_mae: 3.9539\n",
      "Epoch 48/100\n",
      "404/404 [==============================] - 1s 2ms/step - loss: 21.3175 - mae: 3.2969 - val_loss: 27.4520 - val_mae: 3.7152\n",
      "Epoch 49/100\n",
      "404/404 [==============================] - 1s 2ms/step - loss: 20.9666 - mae: 3.3061 - val_loss: 25.4103 - val_mae: 3.5656\n",
      "Epoch 50/100\n",
      "404/404 [==============================] - 1s 2ms/step - loss: 20.5622 - mae: 3.3244 - val_loss: 26.2372 - val_mae: 3.7773\n",
      "Epoch 51/100\n",
      "404/404 [==============================] - 1s 2ms/step - loss: 21.0133 - mae: 3.2487 - val_loss: 27.1493 - val_mae: 3.7078\n",
      "Epoch 52/100\n",
      "404/404 [==============================] - 1s 2ms/step - loss: 20.5813 - mae: 3.2438 - val_loss: 25.9904 - val_mae: 3.6050\n",
      "Epoch 53/100\n",
      "404/404 [==============================] - 1s 2ms/step - loss: 20.4022 - mae: 3.2979 - val_loss: 35.7298 - val_mae: 4.2106\n",
      "Epoch 54/100\n",
      "404/404 [==============================] - 1s 2ms/step - loss: 21.0093 - mae: 3.3484 - val_loss: 25.7944 - val_mae: 3.6553\n",
      "Epoch 55/100\n",
      "404/404 [==============================] - 1s 2ms/step - loss: 20.4815 - mae: 3.2668 - val_loss: 26.3374 - val_mae: 3.7500\n",
      "Epoch 56/100\n",
      "404/404 [==============================] - 1s 2ms/step - loss: 19.4172 - mae: 3.1763 - val_loss: 26.7622 - val_mae: 3.6201\n",
      "Epoch 57/100\n",
      "404/404 [==============================] - 1s 2ms/step - loss: 19.1240 - mae: 3.1926 - val_loss: 27.0704 - val_mae: 3.7248\n",
      "Epoch 58/100\n",
      "404/404 [==============================] - 1s 2ms/step - loss: 19.0938 - mae: 3.1540 - val_loss: 29.3597 - val_mae: 3.8133\n",
      "Epoch 59/100\n",
      "404/404 [==============================] - 1s 2ms/step - loss: 19.0876 - mae: 3.1422 - val_loss: 27.3499 - val_mae: 3.7748\n",
      "Epoch 60/100\n",
      "404/404 [==============================] - 1s 2ms/step - loss: 17.7909 - mae: 3.1540 - val_loss: 32.8841 - val_mae: 4.2220\n",
      "Epoch 61/100\n",
      "404/404 [==============================] - 1s 2ms/step - loss: 19.2781 - mae: 3.1502 - val_loss: 27.2372 - val_mae: 3.7292\n",
      "Epoch 62/100\n",
      "404/404 [==============================] - 1s 2ms/step - loss: 18.1633 - mae: 3.0733 - val_loss: 36.6601 - val_mae: 4.2929\n",
      "Epoch 63/100\n",
      "404/404 [==============================] - 1s 2ms/step - loss: 18.2891 - mae: 3.0277 - val_loss: 28.6241 - val_mae: 3.7886\n",
      "Epoch 64/100\n",
      "404/404 [==============================] - 1s 2ms/step - loss: 18.5992 - mae: 3.0797 - val_loss: 27.3613 - val_mae: 3.6442\n",
      "Epoch 65/100\n",
      "404/404 [==============================] - 1s 2ms/step - loss: 18.4573 - mae: 3.1587 - val_loss: 27.3170 - val_mae: 3.6055\n",
      "Epoch 66/100\n",
      "404/404 [==============================] - 1s 2ms/step - loss: 17.5854 - mae: 3.0672 - val_loss: 33.3743 - val_mae: 4.0792\n",
      "Epoch 67/100\n",
      "404/404 [==============================] - 1s 2ms/step - loss: 18.1807 - mae: 3.0903 - val_loss: 30.0637 - val_mae: 3.9527\n",
      "Epoch 68/100\n",
      "404/404 [==============================] - 1s 2ms/step - loss: 18.3725 - mae: 3.0900 - val_loss: 26.5500 - val_mae: 3.6695\n",
      "Epoch 69/100\n",
      "404/404 [==============================] - 1s 2ms/step - loss: 18.7823 - mae: 3.0975 - val_loss: 27.2672 - val_mae: 3.6039\n",
      "Epoch 70/100\n",
      "404/404 [==============================] - 1s 2ms/step - loss: 17.1939 - mae: 3.0646 - val_loss: 26.6207 - val_mae: 3.5926\n",
      "Epoch 71/100\n",
      "404/404 [==============================] - 1s 2ms/step - loss: 18.5702 - mae: 3.1973 - val_loss: 38.1029 - val_mae: 4.4376\n",
      "Epoch 72/100\n",
      "404/404 [==============================] - 1s 2ms/step - loss: 18.8203 - mae: 2.9752 - val_loss: 27.0038 - val_mae: 3.6951\n",
      "Epoch 73/100\n",
      "404/404 [==============================] - 1s 2ms/step - loss: 18.7162 - mae: 3.0211 - val_loss: 29.2086 - val_mae: 3.7348\n",
      "Epoch 74/100\n",
      "404/404 [==============================] - 1s 2ms/step - loss: 17.7711 - mae: 3.0300 - val_loss: 28.3599 - val_mae: 3.6162\n",
      "Epoch 75/100\n",
      "404/404 [==============================] - 1s 2ms/step - loss: 17.0358 - mae: 3.0708 - val_loss: 28.9812 - val_mae: 3.6353\n",
      "Epoch 76/100\n",
      "404/404 [==============================] - 1s 2ms/step - loss: 17.8346 - mae: 2.9763 - val_loss: 27.0348 - val_mae: 3.5747\n",
      "Epoch 77/100\n",
      "404/404 [==============================] - 1s 2ms/step - loss: 16.4749 - mae: 2.9528 - val_loss: 30.6267 - val_mae: 3.8027\n",
      "Epoch 78/100\n",
      "404/404 [==============================] - 1s 2ms/step - loss: 16.6806 - mae: 2.9799 - val_loss: 30.5724 - val_mae: 3.6895\n",
      "Epoch 79/100\n",
      "404/404 [==============================] - 1s 2ms/step - loss: 17.9949 - mae: 3.0536 - val_loss: 28.7017 - val_mae: 3.7222\n",
      "Epoch 80/100\n",
      "404/404 [==============================] - 1s 2ms/step - loss: 16.1592 - mae: 2.9434 - val_loss: 32.4350 - val_mae: 3.8347\n",
      "Epoch 81/100\n",
      "404/404 [==============================] - 1s 2ms/step - loss: 17.1880 - mae: 2.9734 - val_loss: 35.0783 - val_mae: 4.1320\n",
      "Epoch 82/100\n",
      "404/404 [==============================] - 1s 2ms/step - loss: 17.7294 - mae: 3.0441 - val_loss: 33.3374 - val_mae: 3.9192\n",
      "Epoch 83/100\n",
      "404/404 [==============================] - 1s 2ms/step - loss: 17.6325 - mae: 2.9894 - val_loss: 28.1152 - val_mae: 3.7223\n",
      "Epoch 84/100\n",
      "404/404 [==============================] - 1s 2ms/step - loss: 16.3376 - mae: 2.9449 - val_loss: 29.8281 - val_mae: 3.6587\n",
      "Epoch 85/100\n",
      "404/404 [==============================] - 1s 2ms/step - loss: 15.6268 - mae: 2.9209 - val_loss: 29.4813 - val_mae: 3.7203\n",
      "Epoch 86/100\n",
      "404/404 [==============================] - 1s 2ms/step - loss: 17.4652 - mae: 3.0343 - val_loss: 30.2746 - val_mae: 3.7294\n",
      "Epoch 87/100\n",
      "404/404 [==============================] - 1s 2ms/step - loss: 16.3047 - mae: 2.9613 - val_loss: 33.5785 - val_mae: 3.9988\n",
      "Epoch 88/100\n",
      "404/404 [==============================] - 1s 2ms/step - loss: 15.7506 - mae: 2.9613 - val_loss: 33.3642 - val_mae: 4.0694\n",
      "Epoch 89/100\n",
      "404/404 [==============================] - 1s 2ms/step - loss: 16.7760 - mae: 2.9114 - val_loss: 29.0084 - val_mae: 3.8491\n",
      "Epoch 90/100\n",
      "404/404 [==============================] - 1s 2ms/step - loss: 15.6820 - mae: 2.9644 - val_loss: 28.4263 - val_mae: 3.6623\n",
      "Epoch 91/100\n",
      "404/404 [==============================] - 1s 2ms/step - loss: 16.6794 - mae: 2.8775 - val_loss: 31.5465 - val_mae: 3.8496\n",
      "Epoch 92/100\n",
      "404/404 [==============================] - 1s 2ms/step - loss: 16.8554 - mae: 2.9280 - val_loss: 28.5269 - val_mae: 3.5923\n",
      "Epoch 93/100\n",
      "404/404 [==============================] - 1s 2ms/step - loss: 17.5919 - mae: 2.9743 - val_loss: 29.9401 - val_mae: 3.7893\n",
      "Epoch 94/100\n",
      "404/404 [==============================] - 1s 2ms/step - loss: 17.1163 - mae: 2.9906 - val_loss: 29.8342 - val_mae: 3.7502\n",
      "Epoch 95/100\n",
      "404/404 [==============================] - 1s 2ms/step - loss: 17.5494 - mae: 2.9460 - val_loss: 29.5394 - val_mae: 3.7700\n",
      "Epoch 96/100\n",
      "404/404 [==============================] - 1s 2ms/step - loss: 17.4280 - mae: 2.9667 - val_loss: 37.4322 - val_mae: 4.3951\n",
      "Epoch 97/100\n",
      "404/404 [==============================] - 1s 2ms/step - loss: 16.6887 - mae: 2.9395 - val_loss: 27.8467 - val_mae: 3.5334\n",
      "Epoch 98/100\n",
      "404/404 [==============================] - 1s 2ms/step - loss: 17.3589 - mae: 3.0136 - val_loss: 30.9653 - val_mae: 3.8190\n",
      "Epoch 99/100\n",
      "404/404 [==============================] - 1s 2ms/step - loss: 16.8370 - mae: 2.8707 - val_loss: 27.9417 - val_mae: 3.8704\n",
      "Epoch 100/100\n",
      "404/404 [==============================] - 1s 2ms/step - loss: 15.0196 - mae: 2.8193 - val_loss: 32.3549 - val_mae: 3.9035\n"
     ]
    }
   ],
   "source": [
    "# for tainiing model.fit\n",
    "# verbose=1 means we will get actual data\n",
    "#num_epochs 100 records are taken 100 times \n",
    "#batch_size=1 after each record we are going to perform back proporation which will update the weight\n",
    "\n",
    "model= HousePricePredictionModel()\n",
    "history=model.fit(x=train_x,y=train_y,epochs=num_epochs,batch_size=1,verbose=1,validation_data=(test_x,test_y))"
   ]
  },
  {
   "cell_type": "code",
   "execution_count": 50,
   "metadata": {
    "id": "yTyoSWoIGMkA"
   },
   "outputs": [
    {
     "name": "stdout",
     "output_type": "stream",
     "text": [
      "Actual Output: 21.1\n",
      "1/1 [==============================] - 0s 66ms/step\n",
      "Predicted Output:  [[21.98792]]\n"
     ]
    }
   ],
   "source": [
    "test_input = [[8.65407330e-05, 0.00000000e+00, 1.13392175e-02, 0.00000000e+00, 1.12518247e-03, 1.31897603e-02, 7.53763011e-02, 1.30768051e-02, 1.09241016e-02, 4.89399752e-01, 4.41333705e-02, 8.67155186e-01, 1.75004108e-02]]\n",
    "print(\"Actual Output: 21.1\")\n",
    "print(\"Predicted Output: \",model.predict(test_input))"
   ]
  },
  {
   "cell_type": "code",
   "execution_count": null,
   "metadata": {
    "id": "_o09xvYUeEK0",
    "scrolled": false
   },
   "outputs": [],
   "source": []
  },
  {
   "cell_type": "code",
   "execution_count": null,
   "metadata": {
    "id": "Ljt7hJ_NjQ5q"
   },
   "outputs": [],
   "source": []
  },
  {
   "cell_type": "code",
   "execution_count": null,
   "metadata": {},
   "outputs": [],
   "source": []
  }
 ],
 "metadata": {
  "colab": {
   "provenance": []
  },
  "kernelspec": {
   "display_name": "Python 3 (ipykernel)",
   "language": "python",
   "name": "python3"
  },
  "language_info": {
   "codemirror_mode": {
    "name": "ipython",
    "version": 3
   },
   "file_extension": ".py",
   "mimetype": "text/x-python",
   "name": "python",
   "nbconvert_exporter": "python",
   "pygments_lexer": "ipython3",
   "version": "3.9.12"
  }
 },
 "nbformat": 4,
 "nbformat_minor": 1
}
